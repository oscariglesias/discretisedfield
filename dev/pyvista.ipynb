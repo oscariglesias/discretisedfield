{
 "cells": [
  {
   "cell_type": "code",
   "execution_count": 1,
   "metadata": {},
   "outputs": [],
   "source": [
    "import micromagneticmodel as mm\n",
    "import oommfc as mc\n",
    "\n",
    "import discretisedfield as df  # df is here chosen to be an alias for discretisedfield\n",
    "\n",
    "p1 = (0, 0, 0)\n",
    "p2 = (100e-9, 50e-9, 20e-9)\n",
    "\n",
    "region = df.Region(p1=p1, p2=p2)"
   ]
  },
  {
   "cell_type": "code",
   "execution_count": 2,
   "metadata": {},
   "outputs": [],
   "source": [
    "import pyvista as pv\n",
    "\n",
    "pv.set_jupyter_backend(\"trame\")"
   ]
  },
  {
   "cell_type": "code",
   "execution_count": 3,
   "metadata": {},
   "outputs": [
    {
     "data": {
      "application/vnd.jupyter.widget-view+json": {
       "model_id": "e6f5d31be88d476686bd29dfe8071a48",
       "version_major": 2,
       "version_minor": 0
      },
      "text/plain": [
       "Widget(value=\"<iframe src='http://localhost:36349/index.html?ui=P_0x7f8b97e48760_0&reconnect=auto' style='widt…"
      ]
     },
     "metadata": {},
     "output_type": "display_data"
    }
   ],
   "source": [
    "region.pyvista()"
   ]
  },
  {
   "cell_type": "code",
   "execution_count": 4,
   "metadata": {},
   "outputs": [],
   "source": [
    "lx, ly, lz = 100e-9, 50e-9, 20e-9\n",
    "\n",
    "subregions = {\n",
    "    \"bottom_subregion\": df.Region(p1=(20e-9, 0, 0), p2=(40e-9, 50e-9, 10e-9)),\n",
    "    \"top_subregion\": df.Region(p1=(80e-9, 40e-9, lz / 2), p2=(lx, ly, lz)),\n",
    "}\n",
    "\n",
    "cell = (5e-9, 5e-9, 5e-9)\n",
    "\n",
    "region = df.Region(p1=(0, 0, 0), p2=(lx, ly, lz))\n",
    "mesh = df.Mesh(region=region, cell=cell, subregions=subregions)"
   ]
  },
  {
   "cell_type": "code",
   "execution_count": 5,
   "metadata": {},
   "outputs": [
    {
     "data": {
      "application/vnd.jupyter.widget-view+json": {
       "model_id": "4e624733ee18404aba1a46af55b6849b",
       "version_major": 2,
       "version_minor": 0
      },
      "text/plain": [
       "Widget(value=\"<iframe src='http://localhost:36349/index.html?ui=P_0x7f8b97da2f10_1&reconnect=auto' style='widt…"
      ]
     },
     "metadata": {},
     "output_type": "display_data"
    }
   ],
   "source": [
    "plotter = pv.Plotter()\n",
    "mesh.pyvista(plotter=plotter, wireframe=False)\n",
    "plotter.show()"
   ]
  },
  {
   "cell_type": "code",
   "execution_count": 6,
   "metadata": {},
   "outputs": [],
   "source": [
    "a, b, c = 5e-9, 3e-9, 2e-9\n",
    "cell = (0.5e-9, 0.5e-9, 0.5e-9)\n",
    "\n",
    "mesh = df.Mesh(p1=(-a, -b, -c), p2=(a, b, c), cell=cell)\n",
    "\n",
    "\n",
    "def norm_fun(pos):\n",
    "    x, y, z = pos\n",
    "    if (x / a) ** 2 + (y / b) ** 2 + (z / c) ** 2 <= 1:\n",
    "        return 1e6\n",
    "    else:\n",
    "        return 0\n",
    "\n",
    "\n",
    "def value_fun(pos):\n",
    "    x, y, z = pos\n",
    "    c = 1e9\n",
    "    return (-c * y, c * x, c * z)\n",
    "\n",
    "\n",
    "field = df.Field(mesh, nvdim=3, value=value_fun, norm=norm_fun, valid=\"norm\")"
   ]
  },
  {
   "cell_type": "code",
   "execution_count": 10,
   "metadata": {},
   "outputs": [
    {
     "data": {
      "application/vnd.jupyter.widget-view+json": {
       "model_id": "0aa9170f7fa44bea859b4433136920fc",
       "version_major": 2,
       "version_minor": 0
      },
      "text/plain": [
       "Widget(value=\"<iframe src='http://localhost:36349/index.html?ui=P_0x7f8b95582ac0_4&reconnect=auto' style='widt…"
      ]
     },
     "metadata": {},
     "output_type": "display_data"
    }
   ],
   "source": [
    "field.orientation.pyvista.vector()"
   ]
  },
  {
   "cell_type": "code",
   "execution_count": 8,
   "metadata": {},
   "outputs": [
    {
     "data": {
      "text/plain": [
       "<function discretisedfield.plotting.util.arrow()>"
      ]
     },
     "execution_count": 8,
     "metadata": {},
     "output_type": "execute_result"
    }
   ],
   "source": [
    "df.plotting.util.arrow"
   ]
  },
  {
   "cell_type": "code",
   "execution_count": 9,
   "metadata": {},
   "outputs": [
    {
     "data": {
      "application/vnd.jupyter.widget-view+json": {
       "model_id": "f3fa666c2fdb4c958e3335f5afe30a01",
       "version_major": 2,
       "version_minor": 0
      },
      "text/plain": [
       "Widget(value=\"<iframe src='http://localhost:36349/index.html?ui=P_0x7f8b9586f280_3&reconnect=auto' style='widt…"
      ]
     },
     "metadata": {},
     "output_type": "display_data"
    }
   ],
   "source": [
    "field.x.pyvista()"
   ]
  },
  {
   "cell_type": "code",
   "execution_count": 10,
   "metadata": {},
   "outputs": [
    {
     "data": {
      "application/vnd.jupyter.widget-view+json": {
       "model_id": "9e9e27bedb2d4a429490ea9e9ec72e10",
       "version_major": 2,
       "version_minor": 0
      },
      "text/plain": [
       "Widget(value=\"<iframe src='http://localhost:33485/index.html?ui=P_0x7f39e9737c40_4&reconnect=auto' style='widt…"
      ]
     },
     "metadata": {},
     "output_type": "display_data"
    }
   ],
   "source": [
    "field.pyvista.vector(cmap=\"viridis\", scalars=\"x\")"
   ]
  },
  {
   "cell_type": "code",
   "execution_count": 11,
   "metadata": {},
   "outputs": [
    {
     "data": {
      "application/vnd.jupyter.widget-view+json": {
       "model_id": "8c886e47245e4d398afa9e989f69aaa6",
       "version_major": 2,
       "version_minor": 0
      },
      "text/plain": [
       "Widget(value=\"<iframe src='http://localhost:33485/index.html?ui=P_0x7f398be4c730_5&reconnect=auto' style='widt…"
      ]
     },
     "metadata": {},
     "output_type": "display_data"
    }
   ],
   "source": [
    "field.pyvista.vector(cmap=\"viridis\", scalars=\"x\")"
   ]
  },
  {
   "cell_type": "code",
   "execution_count": 12,
   "metadata": {},
   "outputs": [],
   "source": [
    "plotter = pv.Plotter()"
   ]
  },
  {
   "cell_type": "code",
   "execution_count": 13,
   "metadata": {},
   "outputs": [
    {
     "name": "stdout",
     "output_type": "stream",
     "text": [
      "\u001b[0;31mSignature:\u001b[0m\n",
      "\u001b[0mplotter\u001b[0m\u001b[0;34m.\u001b[0m\u001b[0madd_volume\u001b[0m\u001b[0;34m(\u001b[0m\u001b[0;34m\u001b[0m\n",
      "\u001b[0;34m\u001b[0m    \u001b[0mvolume\u001b[0m\u001b[0;34m,\u001b[0m\u001b[0;34m\u001b[0m\n",
      "\u001b[0;34m\u001b[0m    \u001b[0mscalars\u001b[0m\u001b[0;34m=\u001b[0m\u001b[0;32mNone\u001b[0m\u001b[0;34m,\u001b[0m\u001b[0;34m\u001b[0m\n",
      "\u001b[0;34m\u001b[0m    \u001b[0mclim\u001b[0m\u001b[0;34m=\u001b[0m\u001b[0;32mNone\u001b[0m\u001b[0;34m,\u001b[0m\u001b[0;34m\u001b[0m\n",
      "\u001b[0;34m\u001b[0m    \u001b[0mresolution\u001b[0m\u001b[0;34m=\u001b[0m\u001b[0;32mNone\u001b[0m\u001b[0;34m,\u001b[0m\u001b[0;34m\u001b[0m\n",
      "\u001b[0;34m\u001b[0m    \u001b[0mopacity\u001b[0m\u001b[0;34m=\u001b[0m\u001b[0;34m'linear'\u001b[0m\u001b[0;34m,\u001b[0m\u001b[0;34m\u001b[0m\n",
      "\u001b[0;34m\u001b[0m    \u001b[0mn_colors\u001b[0m\u001b[0;34m=\u001b[0m\u001b[0;36m256\u001b[0m\u001b[0;34m,\u001b[0m\u001b[0;34m\u001b[0m\n",
      "\u001b[0;34m\u001b[0m    \u001b[0mcmap\u001b[0m\u001b[0;34m=\u001b[0m\u001b[0;32mNone\u001b[0m\u001b[0;34m,\u001b[0m\u001b[0;34m\u001b[0m\n",
      "\u001b[0;34m\u001b[0m    \u001b[0mflip_scalars\u001b[0m\u001b[0;34m=\u001b[0m\u001b[0;32mFalse\u001b[0m\u001b[0;34m,\u001b[0m\u001b[0;34m\u001b[0m\n",
      "\u001b[0;34m\u001b[0m    \u001b[0mreset_camera\u001b[0m\u001b[0;34m=\u001b[0m\u001b[0;32mNone\u001b[0m\u001b[0;34m,\u001b[0m\u001b[0;34m\u001b[0m\n",
      "\u001b[0;34m\u001b[0m    \u001b[0mname\u001b[0m\u001b[0;34m=\u001b[0m\u001b[0;32mNone\u001b[0m\u001b[0;34m,\u001b[0m\u001b[0;34m\u001b[0m\n",
      "\u001b[0;34m\u001b[0m    \u001b[0mambient\u001b[0m\u001b[0;34m=\u001b[0m\u001b[0;32mNone\u001b[0m\u001b[0;34m,\u001b[0m\u001b[0;34m\u001b[0m\n",
      "\u001b[0;34m\u001b[0m    \u001b[0mcategories\u001b[0m\u001b[0;34m=\u001b[0m\u001b[0;32mFalse\u001b[0m\u001b[0;34m,\u001b[0m\u001b[0;34m\u001b[0m\n",
      "\u001b[0;34m\u001b[0m    \u001b[0mculling\u001b[0m\u001b[0;34m=\u001b[0m\u001b[0;32mFalse\u001b[0m\u001b[0;34m,\u001b[0m\u001b[0;34m\u001b[0m\n",
      "\u001b[0;34m\u001b[0m    \u001b[0mmulti_colors\u001b[0m\u001b[0;34m=\u001b[0m\u001b[0;32mFalse\u001b[0m\u001b[0;34m,\u001b[0m\u001b[0;34m\u001b[0m\n",
      "\u001b[0;34m\u001b[0m    \u001b[0mblending\u001b[0m\u001b[0;34m=\u001b[0m\u001b[0;34m'composite'\u001b[0m\u001b[0;34m,\u001b[0m\u001b[0;34m\u001b[0m\n",
      "\u001b[0;34m\u001b[0m    \u001b[0mmapper\u001b[0m\u001b[0;34m=\u001b[0m\u001b[0;32mNone\u001b[0m\u001b[0;34m,\u001b[0m\u001b[0;34m\u001b[0m\n",
      "\u001b[0;34m\u001b[0m    \u001b[0mscalar_bar_args\u001b[0m\u001b[0;34m=\u001b[0m\u001b[0;32mNone\u001b[0m\u001b[0;34m,\u001b[0m\u001b[0;34m\u001b[0m\n",
      "\u001b[0;34m\u001b[0m    \u001b[0mshow_scalar_bar\u001b[0m\u001b[0;34m=\u001b[0m\u001b[0;32mNone\u001b[0m\u001b[0;34m,\u001b[0m\u001b[0;34m\u001b[0m\n",
      "\u001b[0;34m\u001b[0m    \u001b[0mannotations\u001b[0m\u001b[0;34m=\u001b[0m\u001b[0;32mNone\u001b[0m\u001b[0;34m,\u001b[0m\u001b[0;34m\u001b[0m\n",
      "\u001b[0;34m\u001b[0m    \u001b[0mpickable\u001b[0m\u001b[0;34m=\u001b[0m\u001b[0;32mTrue\u001b[0m\u001b[0;34m,\u001b[0m\u001b[0;34m\u001b[0m\n",
      "\u001b[0;34m\u001b[0m    \u001b[0mpreference\u001b[0m\u001b[0;34m=\u001b[0m\u001b[0;34m'point'\u001b[0m\u001b[0;34m,\u001b[0m\u001b[0;34m\u001b[0m\n",
      "\u001b[0;34m\u001b[0m    \u001b[0mopacity_unit_distance\u001b[0m\u001b[0;34m=\u001b[0m\u001b[0;32mNone\u001b[0m\u001b[0;34m,\u001b[0m\u001b[0;34m\u001b[0m\n",
      "\u001b[0;34m\u001b[0m    \u001b[0mshade\u001b[0m\u001b[0;34m=\u001b[0m\u001b[0;32mFalse\u001b[0m\u001b[0;34m,\u001b[0m\u001b[0;34m\u001b[0m\n",
      "\u001b[0;34m\u001b[0m    \u001b[0mdiffuse\u001b[0m\u001b[0;34m=\u001b[0m\u001b[0;36m0.7\u001b[0m\u001b[0;34m,\u001b[0m\u001b[0;34m\u001b[0m\n",
      "\u001b[0;34m\u001b[0m    \u001b[0mspecular\u001b[0m\u001b[0;34m=\u001b[0m\u001b[0;36m0.2\u001b[0m\u001b[0;34m,\u001b[0m\u001b[0;34m\u001b[0m\n",
      "\u001b[0;34m\u001b[0m    \u001b[0mspecular_power\u001b[0m\u001b[0;34m=\u001b[0m\u001b[0;36m10.0\u001b[0m\u001b[0;34m,\u001b[0m\u001b[0;34m\u001b[0m\n",
      "\u001b[0;34m\u001b[0m    \u001b[0mrender\u001b[0m\u001b[0;34m=\u001b[0m\u001b[0;32mTrue\u001b[0m\u001b[0;34m,\u001b[0m\u001b[0;34m\u001b[0m\n",
      "\u001b[0;34m\u001b[0m    \u001b[0mlog_scale\u001b[0m\u001b[0;34m=\u001b[0m\u001b[0;32mFalse\u001b[0m\u001b[0;34m,\u001b[0m\u001b[0;34m\u001b[0m\n",
      "\u001b[0;34m\u001b[0m    \u001b[0;34m**\u001b[0m\u001b[0mkwargs\u001b[0m\u001b[0;34m,\u001b[0m\u001b[0;34m\u001b[0m\n",
      "\u001b[0;34m\u001b[0m\u001b[0;34m)\u001b[0m\u001b[0;34m\u001b[0m\u001b[0;34m\u001b[0m\u001b[0m\n",
      "\u001b[0;31mDocstring:\u001b[0m\n",
      "Add a volume, rendered using a smart mapper by default.\n",
      "\n",
      "Requires a 3D data type like :class:`numpy.ndarray`,\n",
      ":class:`pyvista.ImageData`, :class:`pyvista.RectilinearGrid`,\n",
      "or :class:`pyvista.UnstructuredGrid`.\n",
      "\n",
      "Parameters\n",
      "----------\n",
      "volume : 3D numpy.ndarray | pyvista.DataSet\n",
      "    The input volume to visualize. 3D numpy arrays are accepted.\n",
      "\n",
      "    .. warning::\n",
      "        If the input is not :class:`numpy.ndarray`,\n",
      "        :class:`pyvista.ImageData`, or :class:`pyvista.RectilinearGrid`,\n",
      "        volume rendering will often have poor performance.\n",
      "\n",
      "scalars : str | numpy.ndarray, optional\n",
      "    Scalars used to \"color\" the mesh.  Accepts a string name of an\n",
      "    array that is present on the mesh or an array with length equal\n",
      "    to the number of cells or the number of points in the\n",
      "    mesh. If ``scalars`` is ``None``, then the active scalars are used.\n",
      "\n",
      "    Scalars may be 1 dimensional or 2 dimensional. If 1 dimensional,\n",
      "    the scalars will be mapped to the lookup table. If 2 dimensional\n",
      "    the scalars will be directly mapped to RGBA values, array should be\n",
      "    shaped ``(N, 4)`` where ``N`` is the number of points, and of\n",
      "    datatype ``np.uint8``.\n",
      "\n",
      "    Scalars may be 1 dimensional or 2 dimensional. If 1 dimensional,\n",
      "    the scalars will be mapped to the lookup table. If 2 dimensional\n",
      "    the scalars will be directly mapped to RGBA values, array should be\n",
      "    shaped ``(N, 4)`` where ``N`` is the number of points, and of\n",
      "    datatype ``np.uint8``.\n",
      "\n",
      "clim : sequence[float], optional\n",
      "    Color bar range for scalars.  For example: ``[-1, 2]``. Defaults to\n",
      "    minimum and maximum of scalars array if the scalars dtype is not\n",
      "    ``np.uint8``. ``rng`` is also an accepted alias for this parameter.\n",
      "\n",
      "    If the scalars datatype is ``np.uint8``, this parameter defaults to\n",
      "    ``[0, 256]``.\n",
      "\n",
      "resolution : list, optional\n",
      "    Block resolution. For example ``[1, 1, 1]``. Resolution must be\n",
      "    non-negative. While VTK accepts negative spacing, this results in\n",
      "    unexpected behavior. See:\n",
      "    `pyvista #1967 <https://github.com/pyvista/pyvista/issues/1967>`_.\n",
      "\n",
      "opacity : str | numpy.ndarray, optional\n",
      "    Opacity mapping for the scalars array.\n",
      "\n",
      "    A string can also be specified to map the scalars range to a\n",
      "    predefined opacity transfer function. Or you can pass a custom made\n",
      "    transfer function that is an array either ``n_colors`` in length or\n",
      "    array, or you can pass a string to select a built in transfer\n",
      "    function. If a string, should be one of the following:\n",
      "\n",
      "    * ``'linear'`` - Linear\n",
      "    * ``'linear_r'`` - Linear except reversed\n",
      "    * ``'geom'`` - Evenly spaced on the log scale\n",
      "    * ``'geom_r'`` - Evenly spaced on the log scale except reversed\n",
      "    * ``'sigmoid'`` - Linear map between -10.0 and 10.0\n",
      "    * ``'sigmoid_1'`` - Linear map between -1.0 and 1.0\n",
      "    * ``'sigmoid_2'`` - Linear map between -2.0 and 2.0\n",
      "    * ``'sigmoid_3'`` - Linear map between -3.0 and 3.0\n",
      "    * ``'sigmoid_4'`` - Linear map between -4.0 and 4.0\n",
      "    * ``'sigmoid_5'`` - Linear map between -5.0 and 5.0\n",
      "    * ``'sigmoid_6'`` - Linear map between -6.0 and 6.0\n",
      "    * ``'sigmoid_7'`` - Linear map between -7.0 and 7.0\n",
      "    * ``'sigmoid_8'`` - Linear map between -8.0 and 8.0\n",
      "    * ``'sigmoid_9'`` - Linear map between -9.0 and 9.0\n",
      "    * ``'sigmoid_10'`` - Linear map between -10.0 and 10.0\n",
      "\n",
      "    If RGBA scalars are provided, this parameter is set to ``'linear'``\n",
      "    to ensure the opacity transfer function has no effect on the input\n",
      "    opacity values.\n",
      "\n",
      "n_colors : int, optional\n",
      "    Number of colors to use when displaying scalars. Defaults to 256.\n",
      "    The scalar bar will also have this many colors.\n",
      "\n",
      "cmap : str | list | pyvista.LookupTable, default: :attr:`pyvista.plotting.themes.Theme.cmap`\n",
      "    If a string, this is the name of the ``matplotlib`` colormap to use\n",
      "    when mapping the ``scalars``.  See available Matplotlib colormaps.\n",
      "    Only applicable for when displaying ``scalars``.\n",
      "    ``colormap`` is also an accepted alias\n",
      "    for this. If ``colorcet`` or ``cmocean`` are installed, their\n",
      "    colormaps can be specified by name.\n",
      "\n",
      "    You can also specify a list of colors to override an existing\n",
      "    colormap with a custom one.  For example, to create a three color\n",
      "    colormap you might specify ``['green', 'red', 'blue']``.\n",
      "\n",
      "    This parameter also accepts a :class:`pyvista.LookupTable`. If this\n",
      "    is set, all parameters controlling the color map like ``n_colors``\n",
      "    will be ignored.\n",
      "\n",
      "flip_scalars : bool, optional\n",
      "    Flip direction of cmap. Most colormaps allow ``*_r`` suffix to do\n",
      "    this as well.\n",
      "\n",
      "reset_camera : bool, optional\n",
      "    Reset the camera after adding this mesh to the scene.\n",
      "\n",
      "name : str, optional\n",
      "    The name for the added actor so that it can be easily\n",
      "    updated.  If an actor of this name already exists in the\n",
      "    rendering window, it will be replaced by the new actor.\n",
      "\n",
      "ambient : float, optional\n",
      "    When lighting is enabled, this is the amount of light from\n",
      "    0 to 1 that reaches the actor when not directed at the\n",
      "    light source emitted from the viewer.  Default 0.0.\n",
      "\n",
      "categories : bool, optional\n",
      "    If set to ``True``, then the number of unique values in the scalar\n",
      "    array will be used as the ``n_colors`` argument.\n",
      "\n",
      "culling : str, optional\n",
      "    Does not render faces that are culled. Options are ``'front'`` or\n",
      "    ``'back'``. This can be helpful for dense surface meshes,\n",
      "    especially when edges are visible, but can cause flat\n",
      "    meshes to be partially displayed.  Defaults ``False``.\n",
      "\n",
      "multi_colors : bool, optional\n",
      "    Whether or not to use multiple colors when plotting MultiBlock\n",
      "    object. Blocks will be colored sequentially as 'Reds', 'Greens',\n",
      "    'Blues', and 'Grays'.\n",
      "\n",
      "blending : str, optional\n",
      "    Blending mode for visualisation of the input object(s). Can be\n",
      "    one of 'additive', 'maximum', 'minimum', 'composite', or\n",
      "    'average'. Defaults to 'additive'.\n",
      "\n",
      "mapper : str, optional\n",
      "    Volume mapper to use given by name. Options include:\n",
      "    ``'fixed_point'``, ``'gpu'``, ``'open_gl'``, and\n",
      "    ``'smart'``.  If ``None`` the ``\"volume_mapper\"`` in the\n",
      "    ``self._theme`` is used. If using ``'fixed_point'``,\n",
      "    only ``ImageData`` types can be used.\n",
      "\n",
      "    .. note::\n",
      "        If a :class:`pyvista.UnstructuredGrid` is input, the 'ugrid'\n",
      "        mapper (``vtkUnstructuredGridVolumeRayCastMapper``) will be\n",
      "        used regardless.\n",
      "\n",
      "    .. note::\n",
      "        The ``'smart'`` mapper chooses one of the other listed\n",
      "        mappers based on rendering parameters and available\n",
      "        hardware. Most of the time the ``'smart'`` simply checks\n",
      "        if a GPU is available and if so, uses the ``'gpu'``\n",
      "        mapper, otherwise using the ``'fixed_point'`` mapper.\n",
      "\n",
      "    .. warning::\n",
      "        The ``'fixed_point'`` mapper is CPU-based and will have\n",
      "        lower performance than the ``'gpu'`` or ``'open_gl'``\n",
      "        mappers.\n",
      "\n",
      "scalar_bar_args : dict, optional\n",
      "    Dictionary of keyword arguments to pass when adding the\n",
      "    scalar bar to the scene. For options, see\n",
      "    :func:`pyvista.Plotter.add_scalar_bar`.\n",
      "\n",
      "show_scalar_bar : bool\n",
      "    If ``False``, a scalar bar will not be added to the\n",
      "    scene. Defaults to ``True``.\n",
      "\n",
      "annotations : dict, optional\n",
      "    Pass a dictionary of annotations. Keys are the float\n",
      "    values in the scalars range to annotate on the scalar bar\n",
      "    and the values are the string annotations.\n",
      "\n",
      "pickable : bool, optional\n",
      "    Set whether this mesh is pickable.\n",
      "\n",
      "preference : str, optional\n",
      "    When ``mesh.n_points == mesh.n_cells`` and setting\n",
      "    scalars, this parameter sets how the scalars will be\n",
      "    mapped to the mesh.  Default ``'point'``, causes the\n",
      "    scalars will be associated with the mesh points.  Can be\n",
      "    either ``'point'`` or ``'cell'``.\n",
      "\n",
      "opacity_unit_distance : float, optional\n",
      "    Set/Get the unit distance on which the scalar opacity\n",
      "    transfer function is defined. Meaning that over that\n",
      "    distance, a given opacity (from the transfer function) is\n",
      "    accumulated. This is adjusted for the actual sampling\n",
      "    distance during rendering. By default, this is the length\n",
      "    of the diagonal of the bounding box of the volume divided\n",
      "    by the dimensions.\n",
      "\n",
      "shade : bool, default: False\n",
      "    Default off. If shading is turned on, the mapper may\n",
      "    perform shading calculations - in some cases shading does\n",
      "    not apply (for example, in a maximum intensity projection)\n",
      "    and therefore shading will not be performed even if this\n",
      "    flag is on.\n",
      "\n",
      "diffuse : float, default: 0.7\n",
      "    The diffuse lighting coefficient.\n",
      "\n",
      "specular : float, default: 0.2\n",
      "    The specular lighting coefficient.\n",
      "\n",
      "specular_power : float, default: 10.0\n",
      "    The specular power. Between ``0.0`` and ``128.0``.\n",
      "\n",
      "render : bool, default: True\n",
      "    Force a render when True.\n",
      "\n",
      "log_scale : bool, default: False\n",
      "    Use log scale when mapping data to colors. Scalars less\n",
      "    than zero are mapped to the smallest representable\n",
      "    positive float.\n",
      "\n",
      "**kwargs : dict, optional\n",
      "    Optional keyword arguments.\n",
      "\n",
      "Returns\n",
      "-------\n",
      "pyvista.Actor\n",
      "    Actor of the volume.\n",
      "\n",
      "Examples\n",
      "--------\n",
      "Show a built-in volume example with the coolwarm colormap.\n",
      "\n",
      ">>> from pyvista import examples\n",
      ">>> import pyvista as pv\n",
      ">>> bolt_nut = examples.download_bolt_nut()\n",
      ">>> pl = pv.Plotter()\n",
      ">>> _ = pl.add_volume(bolt_nut, cmap=\"coolwarm\")\n",
      ">>> pl.show()\n",
      "\n",
      "Create a volume from scratch and plot it using single vector of\n",
      "scalars.\n",
      "\n",
      ">>> import pyvista as pv\n",
      ">>> grid = pv.ImageData(dimensions=(9, 9, 9))\n",
      ">>> grid['scalars'] = -grid.x\n",
      ">>> pl = pv.Plotter()\n",
      ">>> _ = pl.add_volume(grid, opacity='linear')\n",
      ">>> pl.show()\n",
      "\n",
      "Plot a volume from scratch using RGBA scalars\n",
      "\n",
      ">>> import pyvista as pv\n",
      ">>> import numpy as np\n",
      ">>> grid = pv.ImageData(dimensions=(5, 20, 20))\n",
      ">>> scalars = grid.points - (grid.origin)\n",
      ">>> scalars /= scalars.max()\n",
      ">>> opacity = np.linalg.norm(\n",
      "...     grid.points - grid.center, axis=1\n",
      "... ).reshape(-1, 1)\n",
      ">>> opacity /= opacity.max()\n",
      ">>> scalars = np.hstack((scalars, opacity**3))\n",
      ">>> scalars *= 255\n",
      ">>> pl = pv.Plotter()\n",
      ">>> vol = pl.add_volume(grid, scalars=scalars.astype(np.uint8))\n",
      ">>> vol.prop.interpolation_type = 'linear'\n",
      ">>> pl.show()\n",
      "\n",
      "Plot an UnstructuredGrid.\n",
      "\n",
      ">>> from pyvista import examples\n",
      ">>> import pyvista as pv\n",
      ">>> mesh = examples.download_letter_a()\n",
      ">>> mesh['scalars'] = mesh.points[:, 1]\n",
      ">>> pl = pv.Plotter()\n",
      ">>> _ = pl.add_volume(mesh, opacity_unit_distance=0.1)\n",
      ">>> pl.show()\n",
      "\u001b[0;31mFile:\u001b[0m      ~/anaconda3/envs/ubermagdev/lib/python3.8/site-packages/pyvista/plotting/plotter.py\n",
      "\u001b[0;31mType:\u001b[0m      method"
     ]
    }
   ],
   "source": [
    "?plotter.add_volume"
   ]
  },
  {
   "cell_type": "code",
   "execution_count": 14,
   "metadata": {},
   "outputs": [
    {
     "data": {
      "application/vnd.jupyter.widget-view+json": {
       "model_id": "5fa5a842b4cb4ea99b55d10439c0e4ac",
       "version_major": 2,
       "version_minor": 0
      },
      "text/plain": [
       "Widget(value=\"<iframe src='http://localhost:33485/index.html?ui=P_0x7f398983f0a0_7&reconnect=auto' style='widt…"
      ]
     },
     "metadata": {},
     "output_type": "display_data"
    }
   ],
   "source": [
    "field.x.pyvista.scalar(opacity=[1, 0, 1])"
   ]
  },
  {
   "cell_type": "code",
   "execution_count": 15,
   "metadata": {},
   "outputs": [
    {
     "data": {
      "application/vnd.jupyter.widget-view+json": {
       "model_id": "7b31926d0af34973ae1ddb56689b493e",
       "version_major": 2,
       "version_minor": 0
      },
      "text/plain": [
       "Widget(value=\"<iframe src='http://localhost:33485/index.html?ui=P_0x7f398983fb80_8&reconnect=auto' style='widt…"
      ]
     },
     "metadata": {},
     "output_type": "display_data"
    }
   ],
   "source": [
    "field.pyvista.contour(isosurfaces=5)"
   ]
  },
  {
   "cell_type": "code",
   "execution_count": 21,
   "metadata": {},
   "outputs": [
    {
     "data": {
      "application/vnd.jupyter.widget-view+json": {
       "model_id": "35a52bafcc76414296467785cb4b7b6e",
       "version_major": 2,
       "version_minor": 0
      },
      "text/plain": [
       "Widget(value=\"<iframe src='http://localhost:33485/index.html?ui=P_0x7f386c0555b0_14&reconnect=auto' style='wid…"
      ]
     },
     "metadata": {},
     "output_type": "display_data"
    }
   ],
   "source": [
    "field.pyvista.contour(isosurfaces=[-1e5, 0, 1e5], scalars=\"y\")"
   ]
  },
  {
   "cell_type": "code",
   "execution_count": 17,
   "metadata": {},
   "outputs": [
    {
     "data": {
      "application/vnd.jupyter.widget-view+json": {
       "model_id": "2d0d997b85bb4b1b8ccfa24d20e39c49",
       "version_major": 2,
       "version_minor": 0
      },
      "text/plain": [
       "Widget(value=\"<iframe src='http://localhost:33485/index.html?ui=P_0x7f3986e2de20_10&reconnect=auto' style='wid…"
      ]
     },
     "metadata": {},
     "output_type": "display_data"
    }
   ],
   "source": [
    "field.pyvista.streamlines(scalars=\"y\")"
   ]
  },
  {
   "cell_type": "code",
   "execution_count": 18,
   "metadata": {},
   "outputs": [
    {
     "data": {
      "application/vnd.jupyter.widget-view+json": {
       "model_id": "754c8a424d0b49cd842001e1a0ba5163",
       "version_major": 2,
       "version_minor": 0
      },
      "text/plain": [
       "Widget(value=\"<iframe src='http://localhost:33485/index.html?ui=P_0x7f3986e2d820_11&reconnect=auto' style='wid…"
      ]
     },
     "metadata": {},
     "output_type": "display_data"
    }
   ],
   "source": [
    "field.pyvista.valid(opacity=0.5, culling=\"backface\")"
   ]
  },
  {
   "cell_type": "code",
   "execution_count": 19,
   "metadata": {},
   "outputs": [
    {
     "data": {
      "application/vnd.jupyter.widget-view+json": {
       "model_id": "ff93d31cda4145538fc1c43cc1e1ea5f",
       "version_major": 2,
       "version_minor": 0
      },
      "text/plain": [
       "Widget(value=\"<iframe src='http://localhost:33485/index.html?ui=P_0x7f3928096880_12&reconnect=auto' style='wid…"
      ]
     },
     "metadata": {},
     "output_type": "display_data"
    }
   ],
   "source": [
    "plotter = pv.Plotter()\n",
    "field.pyvista.vector(plotter=plotter, cmap=\"viridis\")\n",
    "field.pyvista.contour(plotter=plotter, isosurfaces=10, scalars=\"x\")\n",
    "plotter.show()"
   ]
  }
 ],
 "metadata": {
  "kernelspec": {
   "display_name": "ubermagdev",
   "language": "python",
   "name": "python3"
  },
  "language_info": {
   "codemirror_mode": {
    "name": "ipython",
    "version": 3
   },
   "file_extension": ".py",
   "mimetype": "text/x-python",
   "name": "python",
   "nbconvert_exporter": "python",
   "pygments_lexer": "ipython3",
   "version": "3.8.17"
  },
  "orig_nbformat": 4
 },
 "nbformat": 4,
 "nbformat_minor": 2
}
