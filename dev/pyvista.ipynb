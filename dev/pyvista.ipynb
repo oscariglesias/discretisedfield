{
 "cells": [
  {
   "cell_type": "code",
   "execution_count": 1,
   "metadata": {},
   "outputs": [],
   "source": [
    "import micromagneticmodel as mm\n",
    "import oommfc as mc\n",
    "\n",
    "import discretisedfield as df  # df is here chosen to be an alias for discretisedfield\n",
    "\n",
    "p1 = (0, 0, 0)\n",
    "p2 = (100e-9, 50e-9, 20e-9)\n",
    "\n",
    "region = df.Region(p1=p1, p2=p2)"
   ]
  },
  {
   "cell_type": "code",
   "execution_count": 2,
   "metadata": {},
   "outputs": [],
   "source": [
    "import pyvista as pv\n",
    "\n",
    "pv.set_jupyter_backend(\"trame\")"
   ]
  },
  {
   "cell_type": "code",
   "execution_count": 3,
   "metadata": {},
   "outputs": [
    {
     "data": {
      "application/vnd.jupyter.widget-view+json": {
       "model_id": "f5ba335d39e445ebad4a880a2896d67b",
       "version_major": 2,
       "version_minor": 0
      },
      "text/plain": [
       "Widget(value=\"<iframe src='http://localhost:44769/index.html?ui=P_0x7f16cce15fd0_0&reconnect=auto' style='widt…"
      ]
     },
     "metadata": {},
     "output_type": "display_data"
    }
   ],
   "source": [
    "region.pyvista()"
   ]
  },
  {
   "cell_type": "code",
   "execution_count": 4,
   "metadata": {},
   "outputs": [],
   "source": [
    "lx, ly, lz = 100e-9, 50e-9, 20e-9\n",
    "\n",
    "subregions = {\n",
    "    \"bottom_subregion\": df.Region(p1=(20e-9, 0, 0), p2=(40e-9, 50e-9, 10e-9)),\n",
    "    \"top_subregion\": df.Region(p1=(80e-9, 40e-9, lz / 2), p2=(lx, ly, lz)),\n",
    "}\n",
    "\n",
    "cell = (5e-9, 5e-9, 5e-9)\n",
    "\n",
    "region = df.Region(p1=(0, 0, 0), p2=(lx, ly, lz))\n",
    "mesh = df.Mesh(region=region, cell=cell, subregions=subregions)"
   ]
  },
  {
   "cell_type": "code",
   "execution_count": 5,
   "metadata": {},
   "outputs": [
    {
     "data": {
      "application/vnd.jupyter.widget-view+json": {
       "model_id": "b4a0767232254819baf90ab82dea27aa",
       "version_major": 2,
       "version_minor": 0
      },
      "text/plain": [
       "Widget(value=\"<iframe src='http://localhost:44769/index.html?ui=P_0x7f16ccd69100_1&reconnect=auto' style='widt…"
      ]
     },
     "metadata": {},
     "output_type": "display_data"
    }
   ],
   "source": [
    "mesh.pyvista()"
   ]
  },
  {
   "cell_type": "code",
   "execution_count": 6,
   "metadata": {},
   "outputs": [
    {
     "data": {
      "application/vnd.jupyter.widget-view+json": {
       "model_id": "7a46a644396c497c91c1ee862ef37838",
       "version_major": 2,
       "version_minor": 0
      },
      "text/plain": [
       "Widget(value=\"<iframe src='http://localhost:44769/index.html?ui=P_0x7f16ccd76ee0_2&reconnect=auto' style='widt…"
      ]
     },
     "metadata": {},
     "output_type": "display_data"
    }
   ],
   "source": [
    "mesh.pyvista.subregions()"
   ]
  },
  {
   "cell_type": "code",
   "execution_count": 7,
   "metadata": {},
   "outputs": [],
   "source": [
    "a, b, c = 5e-9, 3e-9, 2e-9\n",
    "cell = (0.5e-9, 0.5e-9, 0.5e-9)\n",
    "\n",
    "mesh = df.Mesh(p1=(-a, -b, -c), p2=(a, b, c), cell=cell)\n",
    "\n",
    "\n",
    "def norm_fun(pos):\n",
    "    x, y, z = pos\n",
    "    if (x / a) ** 2 + (y / b) ** 2 + (z / c) ** 2 <= 1:\n",
    "        return 1e6\n",
    "    else:\n",
    "        return 0\n",
    "\n",
    "\n",
    "def value_fun(pos):\n",
    "    x, y, z = pos\n",
    "    c = 1e9\n",
    "    return (-c * y, c * x, c * z)\n",
    "\n",
    "\n",
    "field = df.Field(mesh, nvdim=3, value=value_fun, norm=norm_fun, valid=\"norm\")"
   ]
  },
  {
   "cell_type": "code",
   "execution_count": 12,
   "metadata": {},
   "outputs": [
    {
     "data": {
      "application/vnd.jupyter.widget-view+json": {
       "model_id": "8c34c33ea07a4216894d2ac24bada3e8",
       "version_major": 2,
       "version_minor": 0
      },
      "text/plain": [
       "Widget(value=\"<iframe src='http://localhost:44769/index.html?ui=P_0x7f16bff300a0_7&reconnect=auto' style='widt…"
      ]
     },
     "metadata": {},
     "output_type": "display_data"
    },
    {
     "name": "stderr",
     "output_type": "stream",
     "text": [
      "ERROR:root:Exception raised\n",
      "ERROR:root:KeyError('17ea5e4d28134c059c85f2accb7f24c3_3474d')\n",
      "ERROR:root:Traceback (most recent call last):\n",
      "  File \"/home/holtsamu/anaconda3/envs/ubermagdev/lib/python3.8/site-packages/wslink/protocol.py\", line 321, in onMessage\n",
      "    results = func(*args, **kwargs)\n",
      "  File \"/home/holtsamu/anaconda3/envs/ubermagdev/lib/python3.8/site-packages/trame_vtk/modules/vtk/protocols/local_rendering.py\", line 33, in get_array\n",
      "    self.context.get_cached_data_array(data_hash, binary)\n",
      "  File \"/home/holtsamu/anaconda3/envs/ubermagdev/lib/python3.8/site-packages/trame_vtk/modules/vtk/serializers/synchronization_context.py\", line 30, in get_cached_data_array\n",
      "    cache_obj = self.data_array_cache[p_md5]\n",
      "KeyError: '17ea5e4d28134c059c85f2accb7f24c3_3474d'\n",
      "\n",
      "ERROR:root:Exception raised\n",
      "ERROR:root:KeyError('5f8c25869bcd2f33a37de742f61f289b_4960L')\n",
      "ERROR:root:Traceback (most recent call last):\n",
      "  File \"/home/holtsamu/anaconda3/envs/ubermagdev/lib/python3.8/site-packages/wslink/protocol.py\", line 321, in onMessage\n",
      "    results = func(*args, **kwargs)\n",
      "  File \"/home/holtsamu/anaconda3/envs/ubermagdev/lib/python3.8/site-packages/trame_vtk/modules/vtk/protocols/local_rendering.py\", line 33, in get_array\n",
      "    self.context.get_cached_data_array(data_hash, binary)\n",
      "  File \"/home/holtsamu/anaconda3/envs/ubermagdev/lib/python3.8/site-packages/trame_vtk/modules/vtk/serializers/synchronization_context.py\", line 30, in get_cached_data_array\n",
      "    cache_obj = self.data_array_cache[p_md5]\n",
      "KeyError: '5f8c25869bcd2f33a37de742f61f289b_4960L'\n",
      "\n"
     ]
    }
   ],
   "source": [
    "field.pyvista(cmap=\"viridis\", scalars=\"x\")"
   ]
  },
  {
   "cell_type": "code",
   "execution_count": 19,
   "metadata": {},
   "outputs": [
    {
     "data": {
      "application/vnd.jupyter.widget-view+json": {
       "model_id": "d967ca3710d24055bdfe95f8dc293d02",
       "version_major": 2,
       "version_minor": 0
      },
      "text/plain": [
       "Widget(value=\"<iframe src='http://localhost:44769/index.html?ui=P_0x7f16b7fa12b0_14&reconnect=auto' style='wid…"
      ]
     },
     "metadata": {},
     "output_type": "display_data"
    }
   ],
   "source": [
    "field.pyvista.contour(isosurfaces=[0])"
   ]
  },
  {
   "cell_type": "code",
   "execution_count": 18,
   "metadata": {},
   "outputs": [
    {
     "data": {
      "application/vnd.jupyter.widget-view+json": {
       "model_id": "e825d8eb1dd14b0da759ac05a284abef",
       "version_major": 2,
       "version_minor": 0
      },
      "text/plain": [
       "Widget(value=\"<iframe src='http://localhost:44769/index.html?ui=P_0x7f16be79c6a0_13&reconnect=auto' style='wid…"
      ]
     },
     "metadata": {},
     "output_type": "display_data"
    }
   ],
   "source": [
    "plotter = pv.Plotter()\n",
    "field.pyvista(plot=plotter, cmap=\"viridis\")\n",
    "field.pyvista.contour(plot=plotter, isosurfaces=10, scalars=\"x\")\n",
    "plotter.show()"
   ]
  },
  {
   "cell_type": "code",
   "execution_count": null,
   "metadata": {},
   "outputs": [],
   "source": []
  }
 ],
 "metadata": {
  "kernelspec": {
   "display_name": "ubermagdev",
   "language": "python",
   "name": "python3"
  },
  "language_info": {
   "codemirror_mode": {
    "name": "ipython",
    "version": 3
   },
   "file_extension": ".py",
   "mimetype": "text/x-python",
   "name": "python",
   "nbconvert_exporter": "python",
   "pygments_lexer": "ipython3",
   "version": "3.8.17"
  },
  "orig_nbformat": 4
 },
 "nbformat": 4,
 "nbformat_minor": 2
}
