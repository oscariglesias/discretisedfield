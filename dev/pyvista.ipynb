{
 "cells": [
  {
   "cell_type": "code",
   "execution_count": 1,
   "metadata": {},
   "outputs": [],
   "source": [
    "import discretisedfield as df  # df is here chosen to be an alias for discretisedfield\n",
    "\n",
    "p1 = (0, 0, 0)\n",
    "p2 = (100e-9, 50e-9, 20e-9)\n",
    "\n",
    "region = df.Region(p1=p1, p2=p2)"
   ]
  },
  {
   "cell_type": "code",
   "execution_count": 2,
   "metadata": {},
   "outputs": [],
   "source": [
    "import pyvista as pv\n",
    "\n",
    "pv.set_jupyter_backend(\"trame\")"
   ]
  },
  {
   "cell_type": "code",
   "execution_count": 3,
   "metadata": {},
   "outputs": [
    {
     "data": {
      "application/vnd.jupyter.widget-view+json": {
       "model_id": "88736bbed872490fb80585abd102503a",
       "version_major": 2,
       "version_minor": 0
      },
      "text/plain": [
       "Widget(value=\"<iframe src='http://localhost:38453/index.html?ui=P_0x7f3f3841e970_0&reconnect=auto' style='widt…"
      ]
     },
     "metadata": {},
     "output_type": "display_data"
    }
   ],
   "source": [
    "region.pyvista()"
   ]
  },
  {
   "cell_type": "code",
   "execution_count": 4,
   "metadata": {},
   "outputs": [],
   "source": [
    "lx, ly, lz = 100e-9, 50e-9, 20e-9\n",
    "\n",
    "subregions = {\n",
    "    \"bottom_subregion\": df.Region(p1=(20e-9, 0, 0), p2=(40e-9, 50e-9, 10e-9)),\n",
    "    \"top_subregion\": df.Region(p1=(80e-9, 40e-9, lz / 2), p2=(lx, ly, lz)),\n",
    "}\n",
    "\n",
    "cell = (5e-9, 5e-9, 5e-9)\n",
    "\n",
    "region = df.Region(p1=(0, 0, 0), p2=(lx, ly, lz))\n",
    "mesh = df.Mesh(region=region, cell=cell, subregions=subregions)"
   ]
  },
  {
   "cell_type": "code",
   "execution_count": 5,
   "metadata": {},
   "outputs": [
    {
     "data": {
      "application/vnd.jupyter.widget-view+json": {
       "model_id": "e37868aaadc14ada810fe78319d4d68d",
       "version_major": 2,
       "version_minor": 0
      },
      "text/plain": [
       "Widget(value=\"<iframe src='http://localhost:38453/index.html?ui=P_0x7f3f383a85e0_1&reconnect=auto' style='widt…"
      ]
     },
     "metadata": {},
     "output_type": "display_data"
    }
   ],
   "source": [
    "mesh.pyvista()"
   ]
  },
  {
   "cell_type": "code",
   "execution_count": 6,
   "metadata": {},
   "outputs": [
    {
     "data": {
      "application/vnd.jupyter.widget-view+json": {
       "model_id": "503afb01b3e84976901dad34943418cf",
       "version_major": 2,
       "version_minor": 0
      },
      "text/plain": [
       "Widget(value=\"<iframe src='http://localhost:38453/index.html?ui=P_0x7f3f2bbd87c0_2&reconnect=auto' style='widt…"
      ]
     },
     "metadata": {},
     "output_type": "display_data"
    }
   ],
   "source": [
    "mesh.pyvista.subregions()"
   ]
  },
  {
   "cell_type": "code",
   "execution_count": 7,
   "metadata": {},
   "outputs": [],
   "source": [
    "import numpy as np\n",
    "import ubermagutil.units as uu"
   ]
  },
  {
   "cell_type": "code",
   "execution_count": 133,
   "metadata": {},
   "outputs": [],
   "source": [
    "class PyVistaField:\n",
    "    def __init__(self, field):\n",
    "        if field.mesh.region.ndim != 3:\n",
    "            raise RuntimeError(\"Only 3d meshes can be plotted.\")\n",
    "        self.field = field * 1\n",
    "\n",
    "    def __call__(self, *, plot=None, multiplier=None, **kwargs):\n",
    "        if self.field.nvdim != 3:\n",
    "            raise RuntimeError(\n",
    "                \"Only meshes with 3 vector dimensions can be plotted not\"\n",
    "                f\" {self.field.mesh.region.ndim=}.\"\n",
    "            )\n",
    "\n",
    "        if plot is None:\n",
    "            plotter = pv.Plotter()\n",
    "        else:\n",
    "            plotter = plot\n",
    "\n",
    "        multiplier = self._setup_multiplier(multiplier)\n",
    "\n",
    "        self.field.mesh.scale(1 / multiplier, reference_point=(0, 0, 0), inplace=True)\n",
    "\n",
    "        field_pv = pv.wrap(self.field.to_vtk())\n",
    "        # field_pv = self._vtk_add_point_data(field_pv)\n",
    "\n",
    "        scale = np.min(self.field.mesh.cell) / np.max(self.field.norm.array)\n",
    "\n",
    "        vector = pv.Arrow(\n",
    "            tip_radius=0.18,\n",
    "            tip_length=0.4,\n",
    "            scale=scale,\n",
    "            tip_resolution=80,\n",
    "            shaft_resolution=80,\n",
    "            shaft_radius=0.05,\n",
    "            start=(-0.5 * scale, 0, 0),\n",
    "        )\n",
    "        plotter.add_mesh(\n",
    "            field_pv.glyph(orient=\"field\", scale=\"norm\", geom=vector),\n",
    "            scalars=\"z\",\n",
    "            cmap=\"coolwarm\",\n",
    "        )\n",
    "\n",
    "        label = self._axis_labels(multiplier)\n",
    "        # Bounds only needed due to axis bug\n",
    "        bounds = tuple(\n",
    "            val\n",
    "            for pair in zip(self.field.mesh.region.pmin, self.field.mesh.region.pmax)\n",
    "            for val in pair\n",
    "        )\n",
    "        box = pv.Box(bounds)\n",
    "        plotter.add_mesh(box, opacity=0.0)\n",
    "        plotter.show_grid(xtitle=label[0], ytitle=label[1], ztitle=label[2])\n",
    "        if plot is None:\n",
    "            plotter.show()\n",
    "\n",
    "    def valid(self, *, plot=None, multiplier=None, **kwargs):\n",
    "        if self.field.nvdim != 3:\n",
    "            raise RuntimeError(\n",
    "                \"Only meshes with 3 vector dimensions can be plotted not\"\n",
    "                f\" {self.field.mesh.region.ndim=}.\"\n",
    "            )\n",
    "\n",
    "        if plot is None:\n",
    "            plotter = pv.Plotter()\n",
    "\n",
    "        multiplier = self._setup_multiplier(multiplier)\n",
    "\n",
    "        rescaled_mesh = self.field.mesh.scale(1 / multiplier, reference_point=(0, 0, 0))\n",
    "\n",
    "        values = self.field.valid.astype(int)\n",
    "\n",
    "        grid = pv.RectilinearGrid(*rescaled_mesh.vertices)\n",
    "        grid.cell_data[\"values\"] = values.flatten(order=\"F\")\n",
    "\n",
    "        # plotter.add_mesh(grid, scalars='values', opacity='values', **kwargs)\n",
    "        plotter.add_volume(grid, scalars=\"values\", flip_scalars=True, **kwargs)\n",
    "        plotter.remove_scalar_bar()\n",
    "        label = self._axis_labels(multiplier)\n",
    "        # Bounds only needed due to axis bug\n",
    "        bounds = tuple(\n",
    "            val\n",
    "            for pair in zip(rescaled_mesh.region.pmin, rescaled_mesh.region.pmax)\n",
    "            for val in pair\n",
    "        )\n",
    "        box = pv.Box(bounds)\n",
    "        plotter.add_mesh(box, opacity=0.0)\n",
    "        plotter.show_grid(xtitle=label[0], ytitle=label[1], ztitle=label[2])\n",
    "        if plot is None:\n",
    "            plotter.show()\n",
    "\n",
    "    def contour(self, *, plot=None, multiplier=None, **kwargs):\n",
    "        if self.field.nvdim != 3:\n",
    "            raise RuntimeError(\n",
    "                \"Only meshes with 3 vector dimensions can be plotted not\"\n",
    "                f\" {self.field.mesh.region.ndim=}.\"\n",
    "            )\n",
    "\n",
    "        if plot is None:\n",
    "            plotter = pv.Plotter()\n",
    "        else:\n",
    "            plotter = plot\n",
    "\n",
    "        multiplier = self._setup_multiplier(multiplier)\n",
    "\n",
    "        self.field.mesh.scale(1 / multiplier, reference_point=(0, 0, 0), inplace=True)\n",
    "\n",
    "        field_pv = pv.wrap(self.field.to_vtk()).cell_data_to_point_data()\n",
    "        # field_pv = self._vtk_add_point_data(field_pv)\n",
    "\n",
    "        plotter.add_mesh(\n",
    "            field_pv.contour(scalars=\"z\", isosurfaces=[0]),\n",
    "            cmap=\"coolwarm\",\n",
    "            opacity=0.5,\n",
    "        )\n",
    "\n",
    "        label = self._axis_labels(multiplier)\n",
    "        # Bounds only needed due to axis bug\n",
    "        bounds = tuple(\n",
    "            val\n",
    "            for pair in zip(self.field.mesh.region.pmin, self.field.mesh.region.pmax)\n",
    "            for val in pair\n",
    "        )\n",
    "        box = pv.Box(bounds)\n",
    "        plotter.add_mesh(box, opacity=0.0)\n",
    "        plotter.show_grid(xtitle=label[0], ytitle=label[1], ztitle=label[2])\n",
    "        if plot is None:\n",
    "            plotter.show()\n",
    "\n",
    "    def _setup_multiplier(self, multiplier):\n",
    "        return self.field.mesh.region.multiplier if multiplier is None else multiplier\n",
    "\n",
    "    def _axis_labels(self, multiplier):\n",
    "        return [\n",
    "            rf\"{dim} ({uu.rsi_prefixes[multiplier]}{unit})\"\n",
    "            for dim, unit in zip(\n",
    "                self.field.mesh.region.dims, self.field.mesh.region.units\n",
    "            )\n",
    "        ]\n",
    "\n",
    "    def _vtk_add_point_data(self, mesh):\n",
    "        pmesh = mesh.cell_data_to_point_data()\n",
    "        for name in mesh.array_names:\n",
    "            mesh.point_data[f\"{name}-points\"] = pmesh.point_data[name]\n",
    "        return mesh"
   ]
  },
  {
   "cell_type": "code",
   "execution_count": 134,
   "metadata": {},
   "outputs": [],
   "source": [
    "a, b, c = 5e-9, 3e-9, 2e-9\n",
    "cell = (0.5e-9, 0.5e-9, 0.5e-9)\n",
    "\n",
    "mesh = df.Mesh(p1=(-a, -b, -c), p2=(a, b, c), cell=cell)\n",
    "\n",
    "\n",
    "def norm_fun(pos):\n",
    "    x, y, z = pos\n",
    "    if (x / a) ** 2 + (y / b) ** 2 + (z / c) ** 2 <= 1:\n",
    "        return 1e6\n",
    "    else:\n",
    "        return 0\n",
    "\n",
    "\n",
    "def value_fun(pos):\n",
    "    x, y, z = pos\n",
    "    c = 1e9\n",
    "    return (-c * y, c * x, c * z)\n",
    "\n",
    "\n",
    "field = df.Field(mesh, nvdim=3, value=value_fun, norm=norm_fun, valid=\"norm\")"
   ]
  },
  {
   "cell_type": "code",
   "execution_count": 135,
   "metadata": {},
   "outputs": [
    {
     "data": {
      "application/vnd.jupyter.widget-view+json": {
       "model_id": "9d92c15317e54314ae37ed2f7f8e1b57",
       "version_major": 2,
       "version_minor": 0
      },
      "text/plain": [
       "Widget(value=\"<iframe src='http://localhost:38453/index.html?ui=P_0x7f3c4faa74f0_45&reconnect=auto' style='wid…"
      ]
     },
     "metadata": {},
     "output_type": "display_data"
    }
   ],
   "source": [
    "PyVistaField(field).contour()"
   ]
  },
  {
   "cell_type": "code",
   "execution_count": 22,
   "metadata": {},
   "outputs": [
    {
     "data": {
      "application/vnd.jupyter.widget-view+json": {
       "model_id": "f3f0ac0344484aa88c480ff079ae5174",
       "version_major": 2,
       "version_minor": 0
      },
      "text/plain": [
       "Widget(value=\"<iframe src='http://localhost:38453/index.html?ui=P_0x7f3eea48cdf0_8&reconnect=auto' style='widt…"
      ]
     },
     "metadata": {},
     "output_type": "display_data"
    }
   ],
   "source": [
    "plot = pv.Plotter()\n",
    "field.mesh.pyvista.subregions(plot=plot)\n",
    "PyVistaField(field)(plot=plot)\n",
    "plot.show()"
   ]
  },
  {
   "cell_type": "code",
   "execution_count": null,
   "metadata": {},
   "outputs": [],
   "source": []
  },
  {
   "cell_type": "code",
   "execution_count": null,
   "metadata": {},
   "outputs": [],
   "source": []
  }
 ],
 "metadata": {
  "kernelspec": {
   "display_name": "ubermagdev",
   "language": "python",
   "name": "python3"
  },
  "language_info": {
   "codemirror_mode": {
    "name": "ipython",
    "version": 3
   },
   "file_extension": ".py",
   "mimetype": "text/x-python",
   "name": "python",
   "nbconvert_exporter": "python",
   "pygments_lexer": "ipython3",
   "version": "3.8.17"
  },
  "orig_nbformat": 4
 },
 "nbformat": 4,
 "nbformat_minor": 2
}
