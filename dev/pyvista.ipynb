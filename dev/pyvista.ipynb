{
 "cells": [
  {
   "cell_type": "code",
   "execution_count": 1,
   "metadata": {},
   "outputs": [],
   "source": [
    "import micromagneticmodel as mm\n",
    "import oommfc as mc\n",
    "\n",
    "import discretisedfield as df  # df is here chosen to be an alias for discretisedfield\n",
    "\n",
    "p1 = (0, 0, 0)\n",
    "p2 = (100e-9, 50e-9, 20e-9)\n",
    "\n",
    "region = df.Region(p1=p1, p2=p2)"
   ]
  },
  {
   "cell_type": "code",
   "execution_count": 2,
   "metadata": {},
   "outputs": [],
   "source": [
    "import pyvista as pv\n",
    "\n",
    "pv.set_jupyter_backend(\"trame\")"
   ]
  },
  {
   "cell_type": "code",
   "execution_count": 3,
   "metadata": {},
   "outputs": [
    {
     "data": {
      "text/plain": [
       "'0.41.1'"
      ]
     },
     "execution_count": 3,
     "metadata": {},
     "output_type": "execute_result"
    }
   ],
   "source": [
    "pv.__version__"
   ]
  },
  {
   "cell_type": "code",
   "execution_count": 4,
   "metadata": {},
   "outputs": [],
   "source": [
    "lx, ly, lz = 100e-9, 50e-9, 20e-9\n",
    "\n",
    "subregions = {\n",
    "    \"bottom_subregion\": df.Region(p1=(20e-9, 0, 0), p2=(40e-9, 50e-9, 10e-9)),\n",
    "    \"top_subregion\": df.Region(p1=(80e-9, 40e-9, lz / 2), p2=(lx, ly, lz)),\n",
    "}\n",
    "\n",
    "cell = (5e-9, 5e-9, 5e-9)\n",
    "\n",
    "region = df.Region(p1=(0, 0, 0), p2=(lx, ly, lz))\n",
    "mesh = df.Mesh(region=region, cell=cell, subregions=subregions)"
   ]
  },
  {
   "cell_type": "code",
   "execution_count": 5,
   "metadata": {},
   "outputs": [
    {
     "data": {
      "application/vnd.jupyter.widget-view+json": {
       "model_id": "bc7f33b592a04dc8a0956a6a1116f201",
       "version_major": 2,
       "version_minor": 0
      },
      "text/plain": [
       "Widget(value=\"<iframe src='http://localhost:46369/index.html?ui=P_0x7f09d050bf70_0&reconnect=auto' style='widt…"
      ]
     },
     "metadata": {},
     "output_type": "display_data"
    }
   ],
   "source": [
    "plotter = pv.Plotter()\n",
    "mesh.pyvista(plotter=plotter, wireframe=True)\n",
    "plotter.show()"
   ]
  },
  {
   "cell_type": "code",
   "execution_count": 6,
   "metadata": {},
   "outputs": [],
   "source": [
    "a, b, c = 5e-9, 3e-9, 2e-9\n",
    "cell = (0.5e-9, 0.5e-9, 0.5e-9)\n",
    "\n",
    "mesh = df.Mesh(p1=(-a, -b, -c), p2=(a, b, c), cell=cell)\n",
    "\n",
    "\n",
    "def norm_fun(pos):\n",
    "    x, y, z = pos\n",
    "    if (x / a) ** 2 + (y / b) ** 2 + (z / c) ** 2 <= 1:\n",
    "        return 1e6\n",
    "    else:\n",
    "        return 0\n",
    "\n",
    "\n",
    "def value_fun(pos):\n",
    "    x, y, z = pos\n",
    "    c = 1e9\n",
    "    return (-c * y, c * x, c * z)\n",
    "\n",
    "\n",
    "field = df.Field(mesh, nvdim=3, value=value_fun, norm=norm_fun, valid=\"norm\")"
   ]
  },
  {
   "cell_type": "code",
   "execution_count": 7,
   "metadata": {},
   "outputs": [
    {
     "name": "stderr",
     "output_type": "stream",
     "text": [
      "/home/holtsamu/repos/ubermag-devtools/repos/discretisedfield/discretisedfield/field.py:1242: RuntimeWarning: invalid value encountered in divide\n",
      "  res_array = function(self.array, other)\n"
     ]
    },
    {
     "data": {
      "text/html": [
       "<strong>Field</strong>\n",
       "<ul>\n",
       "  \n",
       "  <li><strong>Mesh</strong>\n",
       "<ul>\n",
       "  <li><strong>Region</strong>\n",
       "<ul>\n",
       "  <li>pmin = [-5e-09, -3e-09, -2e-09]</li>\n",
       "  <li>pmax = [5e-09, 3e-09, 2e-09]</li>\n",
       "  <li>dims = ['x', 'y', 'z']</li>\n",
       "  <li>units = ['m', 'm', 'm']</li>\n",
       "</ul></li>\n",
       "  <li>n = [20, 12, 8]</li>\n",
       "  </ul></li>\n",
       "  <li>nvdim = 1</li>\n",
       "  <li>unit = rad</li>\n",
       "  </ul>"
      ],
      "text/plain": [
       "Field(Mesh(Region(pmin=[-5e-09, -3e-09, -2e-09], pmax=[5e-09, 3e-09, 2e-09], dims=['x', 'y', 'z'], units=['m', 'm', 'm']), n=[20, 12, 8]), nvdim=1, unit=rad)"
      ]
     },
     "execution_count": 7,
     "metadata": {},
     "output_type": "execute_result"
    }
   ],
   "source": [
    "field.angle((1, 0, 0))"
   ]
  },
  {
   "cell_type": "code",
   "execution_count": 8,
   "metadata": {},
   "outputs": [
    {
     "data": {
      "application/vnd.jupyter.widget-view+json": {
       "model_id": "ab4c213872344a439066a20e4e123b34",
       "version_major": 2,
       "version_minor": 0
      },
      "text/plain": [
       "Widget(value=\"<iframe src='http://localhost:46369/index.html?ui=P_0x7f09d0483f40_1&reconnect=auto' style='widt…"
      ]
     },
     "metadata": {},
     "output_type": "display_data"
    }
   ],
   "source": [
    "field.pyvista.contour(color_field=field.angle((1, 0, 0)), cmap=\"hsv\")"
   ]
  },
  {
   "cell_type": "code",
   "execution_count": 9,
   "metadata": {},
   "outputs": [
    {
     "data": {
      "text/html": [
       "<table style='width: 100%;'><tr><th>Header</th><th>Data Arrays</th></tr><tr><td>\n",
       "<table style='width: 100%;'>\n",
       "<tr><th>RectilinearGrid</th><th>Information</th></tr>\n",
       "<tr><td>N Cells</td><td>1920</td></tr>\n",
       "<tr><td>N Points</td><td>2457</td></tr>\n",
       "<tr><td>X Bounds</td><td>-5.000e+00, 5.000e+00</td></tr>\n",
       "<tr><td>Y Bounds</td><td>-3.000e+00, 3.000e+00</td></tr>\n",
       "<tr><td>Z Bounds</td><td>-2.000e+00, 2.000e+00</td></tr>\n",
       "<tr><td>Dimensions</td><td>21, 13, 9</td></tr>\n",
       "<tr><td>N Arrays</td><td>6</td></tr>\n",
       "</table>\n",
       "\n",
       "</td><td>\n",
       "<table style='width: 100%;'>\n",
       "<tr><th>Name</th><th>Field</th><th>Type</th><th>N Comp</th><th>Min</th><th>Max</th></tr>\n",
       "<tr><td>norm</td><td>Cells</td><td>float64</td><td>1</td><td>0.000e+00</td><td>1.000e+06</td></tr>\n",
       "<tr><td>x</td><td>Cells</td><td>float64</td><td>1</td><td>-9.918e+05</td><td>9.918e+05</td></tr>\n",
       "<tr><td>y</td><td>Cells</td><td>float64</td><td>1</td><td>-9.972e+05</td><td>9.972e+05</td></tr>\n",
       "<tr><td>z</td><td>Cells</td><td>float64</td><td>1</td><td>-9.802e+05</td><td>9.802e+05</td></tr>\n",
       "<tr><td>field</td><td>Cells</td><td>float64</td><td>3</td><td>-9.972e+05</td><td>9.972e+05</td></tr>\n",
       "<tr><td>valid</td><td>Cells</td><td>int64</td><td>1</td><td>0.000e+00</td><td>1.000e+00</td></tr>\n",
       "</table>\n",
       "\n",
       "</td></tr> </table>"
      ],
      "text/plain": [
       "RectilinearGrid (0x7f09d04d4e80)\n",
       "  N Cells:      1920\n",
       "  N Points:     2457\n",
       "  X Bounds:     -5.000e+00, 5.000e+00\n",
       "  Y Bounds:     -3.000e+00, 3.000e+00\n",
       "  Z Bounds:     -2.000e+00, 2.000e+00\n",
       "  Dimensions:   21, 13, 9\n",
       "  N Arrays:     6"
      ]
     },
     "execution_count": 9,
     "metadata": {},
     "output_type": "execute_result"
    }
   ],
   "source": [
    "field_pv = pv.wrap(field.to_vtk())\n",
    "field_pv"
   ]
  },
  {
   "cell_type": "code",
   "execution_count": 10,
   "metadata": {},
   "outputs": [
    {
     "data": {
      "text/html": [
       "<table style='width: 100%;'><tr><th>Header</th><th>Data Arrays</th></tr><tr><td>\n",
       "<table style='width: 100%;'>\n",
       "<tr><th>RectilinearGrid</th><th>Information</th></tr>\n",
       "<tr><td>N Cells</td><td>1920</td></tr>\n",
       "<tr><td>N Points</td><td>2457</td></tr>\n",
       "<tr><td>X Bounds</td><td>-5.000e+00, 5.000e+00</td></tr>\n",
       "<tr><td>Y Bounds</td><td>-3.000e+00, 3.000e+00</td></tr>\n",
       "<tr><td>Z Bounds</td><td>-2.000e+00, 2.000e+00</td></tr>\n",
       "<tr><td>Dimensions</td><td>21, 13, 9</td></tr>\n",
       "<tr><td>N Arrays</td><td>3</td></tr>\n",
       "</table>\n",
       "\n",
       "</td><td>\n",
       "<table style='width: 100%;'>\n",
       "<tr><th>Name</th><th>Field</th><th>Type</th><th>N Comp</th><th>Min</th><th>Max</th></tr>\n",
       "<tr><td>norm</td><td>Cells</td><td>float64</td><td>1</td><td>0.000e+00</td><td>9.918e+05</td></tr>\n",
       "<tr><td><b>field</b></td><td>Cells</td><td>float64</td><td>1</td><td>-9.918e+05</td><td>9.918e+05</td></tr>\n",
       "<tr><td>valid</td><td>Cells</td><td>int64</td><td>1</td><td>0.000e+00</td><td>1.000e+00</td></tr>\n",
       "</table>\n",
       "\n",
       "</td></tr> </table>"
      ],
      "text/plain": [
       "RectilinearGrid (0x7f09cdc173a0)\n",
       "  N Cells:      1920\n",
       "  N Points:     2457\n",
       "  X Bounds:     -5.000e+00, 5.000e+00\n",
       "  Y Bounds:     -3.000e+00, 3.000e+00\n",
       "  Z Bounds:     -2.000e+00, 2.000e+00\n",
       "  Dimensions:   21, 13, 9\n",
       "  N Arrays:     3"
      ]
     },
     "execution_count": 10,
     "metadata": {},
     "output_type": "execute_result"
    }
   ],
   "source": [
    "pv.wrap(field.x.to_vtk())"
   ]
  },
  {
   "cell_type": "code",
   "execution_count": 11,
   "metadata": {},
   "outputs": [
    {
     "data": {
      "text/html": [
       "<table style='width: 100%;'><tr><th>Header</th><th>Data Arrays</th></tr><tr><td>\n",
       "<table style='width: 100%;'>\n",
       "<tr><th>RectilinearGrid</th><th>Information</th></tr>\n",
       "<tr><td>N Cells</td><td>1920</td></tr>\n",
       "<tr><td>N Points</td><td>2457</td></tr>\n",
       "<tr><td>X Bounds</td><td>-5.000e+00, 5.000e+00</td></tr>\n",
       "<tr><td>Y Bounds</td><td>-3.000e+00, 3.000e+00</td></tr>\n",
       "<tr><td>Z Bounds</td><td>-2.000e+00, 2.000e+00</td></tr>\n",
       "<tr><td>Dimensions</td><td>21, 13, 9</td></tr>\n",
       "<tr><td>N Arrays</td><td>7</td></tr>\n",
       "</table>\n",
       "\n",
       "</td><td>\n",
       "<table style='width: 100%;'>\n",
       "<tr><th>Name</th><th>Field</th><th>Type</th><th>N Comp</th><th>Min</th><th>Max</th></tr>\n",
       "<tr><td>norm</td><td>Cells</td><td>float64</td><td>1</td><td>0.000e+00</td><td>1.000e+06</td></tr>\n",
       "<tr><td>x</td><td>Cells</td><td>float64</td><td>1</td><td>-9.918e+05</td><td>9.918e+05</td></tr>\n",
       "<tr><td>y</td><td>Cells</td><td>float64</td><td>1</td><td>-9.972e+05</td><td>9.972e+05</td></tr>\n",
       "<tr><td>z</td><td>Cells</td><td>float64</td><td>1</td><td>-9.802e+05</td><td>9.802e+05</td></tr>\n",
       "<tr><td>field</td><td>Cells</td><td>float64</td><td>3</td><td>-9.972e+05</td><td>9.972e+05</td></tr>\n",
       "<tr><td>valid</td><td>Cells</td><td>int64</td><td>1</td><td>0.000e+00</td><td>1.000e+00</td></tr>\n",
       "<tr><td><b>color_field</b></td><td>Cells</td><td>float64</td><td>1</td><td>-9.918e+05</td><td>9.918e+05</td></tr>\n",
       "</table>\n",
       "\n",
       "</td></tr> </table>"
      ],
      "text/plain": [
       "RectilinearGrid (0x7f09d04d4e80)\n",
       "  N Cells:      1920\n",
       "  N Points:     2457\n",
       "  X Bounds:     -5.000e+00, 5.000e+00\n",
       "  Y Bounds:     -3.000e+00, 3.000e+00\n",
       "  Z Bounds:     -2.000e+00, 2.000e+00\n",
       "  Dimensions:   21, 13, 9\n",
       "  N Arrays:     7"
      ]
     },
     "execution_count": 11,
     "metadata": {},
     "output_type": "execute_result"
    }
   ],
   "source": [
    "field_pv[\"color_field\"] = pv.wrap(field.x.to_vtk())[\"field\"].copy()\n",
    "field_pv"
   ]
  },
  {
   "cell_type": "code",
   "execution_count": 12,
   "metadata": {},
   "outputs": [
    {
     "data": {
      "application/vnd.jupyter.widget-view+json": {
       "model_id": "1447f44143614c26943b4e6d39e37144",
       "version_major": 2,
       "version_minor": 0
      },
      "text/plain": [
       "Widget(value=\"<iframe src='http://localhost:46369/index.html?ui=P_0x7f09cdc717f0_2&reconnect=auto' style='widt…"
      ]
     },
     "metadata": {},
     "output_type": "display_data"
    }
   ],
   "source": [
    "field.pyvista.vector()"
   ]
  },
  {
   "cell_type": "code",
   "execution_count": 13,
   "metadata": {},
   "outputs": [
    {
     "data": {
      "application/vnd.jupyter.widget-view+json": {
       "model_id": "e0018dc77fa54708a96005e4a2aaa5d7",
       "version_major": 2,
       "version_minor": 0
      },
      "text/plain": [
       "Widget(value=\"<iframe src='http://localhost:46369/index.html?ui=P_0x7f09d065f0a0_3&reconnect=auto' style='widt…"
      ]
     },
     "metadata": {},
     "output_type": "display_data"
    }
   ],
   "source": [
    "field.pyvista.vector(cmap=\"viridis\", color_field=field.y)"
   ]
  },
  {
   "cell_type": "code",
   "execution_count": 14,
   "metadata": {},
   "outputs": [
    {
     "data": {
      "application/vnd.jupyter.widget-view+json": {
       "model_id": "e2795f21d91f42e4a1f92b35b2cf5fb5",
       "version_major": 2,
       "version_minor": 0
      },
      "text/plain": [
       "Widget(value=\"<iframe src='http://localhost:46369/index.html?ui=P_0x7f09df2e3700_4&reconnect=auto' style='widt…"
      ]
     },
     "metadata": {},
     "output_type": "display_data"
    }
   ],
   "source": [
    "field.pyvista.vector(cmap=\"viridis\", scalars=\"x\")"
   ]
  },
  {
   "cell_type": "code",
   "execution_count": 15,
   "metadata": {},
   "outputs": [
    {
     "data": {
      "application/vnd.jupyter.widget-view+json": {
       "model_id": "3ac1394216004be68e5dd7a41dc8d334",
       "version_major": 2,
       "version_minor": 0
      },
      "text/plain": [
       "Widget(value=\"<iframe src='http://localhost:46369/index.html?ui=P_0x7f09cdc19d60_5&reconnect=auto' style='widt…"
      ]
     },
     "metadata": {},
     "output_type": "display_data"
    }
   ],
   "source": [
    "field.x.pyvista.scalar(opacity=[1, 0, 1])"
   ]
  },
  {
   "cell_type": "code",
   "execution_count": 16,
   "metadata": {},
   "outputs": [
    {
     "data": {
      "application/vnd.jupyter.widget-view+json": {
       "model_id": "65da77a23f1b44d98621ec643c3606f0",
       "version_major": 2,
       "version_minor": 0
      },
      "text/plain": [
       "Widget(value=\"<iframe src='http://localhost:46369/index.html?ui=P_0x7f09d050bee0_6&reconnect=auto' style='widt…"
      ]
     },
     "metadata": {},
     "output_type": "display_data"
    }
   ],
   "source": [
    "field.pyvista.contour(isosurfaces=5)"
   ]
  },
  {
   "cell_type": "code",
   "execution_count": 17,
   "metadata": {},
   "outputs": [
    {
     "data": {
      "application/vnd.jupyter.widget-view+json": {
       "model_id": "047ad9c8c6f34d588cc28723871119d7",
       "version_major": 2,
       "version_minor": 0
      },
      "text/plain": [
       "Widget(value=\"<iframe src='http://localhost:46369/index.html?ui=P_0x7f09cdc19070_7&reconnect=auto' style='widt…"
      ]
     },
     "metadata": {},
     "output_type": "display_data"
    }
   ],
   "source": [
    "field.pyvista.contour(isosurfaces=10, scalars=\"y\")"
   ]
  },
  {
   "cell_type": "code",
   "execution_count": 22,
   "metadata": {},
   "outputs": [
    {
     "data": {
      "application/vnd.jupyter.widget-view+json": {
       "model_id": "ec6142e01d4f442ea0498e29fe1523ca",
       "version_major": 2,
       "version_minor": 0
      },
      "text/plain": [
       "Widget(value=\"<iframe src='http://localhost:46369/index.html?ui=P_0x7f09700b9be0_12&reconnect=auto' style='wid…"
      ]
     },
     "metadata": {},
     "output_type": "display_data"
    }
   ],
   "source": [
    "field.pyvista.streamlines(color_field=field.x * field.y)"
   ]
  },
  {
   "cell_type": "code",
   "execution_count": 19,
   "metadata": {},
   "outputs": [
    {
     "data": {
      "application/vnd.jupyter.widget-view+json": {
       "model_id": "ab828bf5fd7c4d949597cca362497d79",
       "version_major": 2,
       "version_minor": 0
      },
      "text/plain": [
       "Widget(value=\"<iframe src='http://localhost:46369/index.html?ui=P_0x7f09ae7e17c0_9&reconnect=auto' style='widt…"
      ]
     },
     "metadata": {},
     "output_type": "display_data"
    }
   ],
   "source": [
    "field.pyvista.valid(opacity=0.5, culling=\"backface\")"
   ]
  },
  {
   "cell_type": "code",
   "execution_count": 20,
   "metadata": {},
   "outputs": [
    {
     "data": {
      "application/vnd.jupyter.widget-view+json": {
       "model_id": "805732efdd744c63909579f24f297c26",
       "version_major": 2,
       "version_minor": 0
      },
      "text/plain": [
       "Widget(value=\"<iframe src='http://localhost:46369/index.html?ui=P_0x7f0970089c10_10&reconnect=auto' style='wid…"
      ]
     },
     "metadata": {},
     "output_type": "display_data"
    }
   ],
   "source": [
    "plotter = pv.Plotter()\n",
    "field.pyvista.vector(plotter=plotter, cmap=\"viridis\")\n",
    "field.pyvista.contour(plotter=plotter, isosurfaces=10, scalars=\"x\")\n",
    "plotter.show()"
   ]
  },
  {
   "cell_type": "code",
   "execution_count": null,
   "metadata": {},
   "outputs": [],
   "source": []
  }
 ],
 "metadata": {
  "kernelspec": {
   "display_name": "ubermagdev",
   "language": "python",
   "name": "python3"
  },
  "language_info": {
   "codemirror_mode": {
    "name": "ipython",
    "version": 3
   },
   "file_extension": ".py",
   "mimetype": "text/x-python",
   "name": "python",
   "nbconvert_exporter": "python",
   "pygments_lexer": "ipython3",
   "version": "3.8.17"
  },
  "orig_nbformat": 4
 },
 "nbformat": 4,
 "nbformat_minor": 2
}
